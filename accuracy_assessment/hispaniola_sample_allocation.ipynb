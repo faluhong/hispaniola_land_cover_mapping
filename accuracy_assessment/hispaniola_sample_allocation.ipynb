{
 "cells": [
  {
   "metadata": {},
   "cell_type": "markdown",
   "source": "sample allocation for the Hispaniola accuracy assessment",
   "id": "4684f49fd7ee66e5"
  },
  {
   "metadata": {
    "ExecuteTime": {
     "end_time": "2024-06-26T13:33:51.722332Z",
     "start_time": "2024-06-26T13:33:51.067793Z"
    }
   },
   "cell_type": "code",
   "source": [
    "import numpy as np\n",
    "import os\n",
    "from os.path import join\n",
    "import pandas as pd\n",
    "\n",
    "from accuracy_assessment.good_practice_sample_allocation import total_sample_num_calculate, sample_allocation"
   ],
   "id": "fec44d66aa24b372",
   "outputs": [
    {
     "name": "stderr",
     "output_type": "stream",
     "text": [
      "C:\\Users\\64937\\AppData\\Local\\Temp\\ipykernel_46852\\4082196369.py:4: DeprecationWarning: \n",
      "Pyarrow will become a required dependency of pandas in the next major release of pandas (pandas 3.0),\n",
      "(to allow more performant data types, such as the Arrow string type, and better interoperability with other libraries)\n",
      "but was not found to be installed on your system.\n",
      "If this would cause problems for you,\n",
      "please provide us feedback at https://github.com/pandas-dev/pandas/issues/54466\n",
      "        \n",
      "  import pandas as pd\n"
     ]
    }
   ],
   "execution_count": 1
  },
  {
   "metadata": {
    "ExecuteTime": {
     "end_time": "2024-06-26T13:33:52.812420Z",
     "start_time": "2024-06-26T13:33:52.794398Z"
    }
   },
   "cell_type": "code",
   "source": [
    "def sample_allocation_pf_preference(total_sample_num, array_weight, pf_class_num=150, rare_class_num=75, rare_class_threshold=0.1):\n",
    "    \"\"\"\n",
    "        allocate the sample number for each class.\n",
    "        We have a preference for the primary forest here. More sample number will be allocated to the primary forest.\n",
    "\n",
    "    Args:\n",
    "        total_sample_num: total sample number\n",
    "        array_weight: weight for each class\n",
    "        rare_class_num: the sample number allocated to the rare class\n",
    "        rare_class_threshold: the weight threshold to determine the rara class\n",
    "\n",
    "    Returns:\n",
    "        array_selected_num: the selected sample number of each class (strata)\n",
    "    \"\"\"\n",
    "\n",
    "    array_selected_num = np.zeros((len(array_weight)), dtype=int)\n",
    "\n",
    "    # set the sample number for rare class\n",
    "    for i_class, array_weight_class in enumerate(array_weight):\n",
    "        if array_weight_class <= rare_class_threshold:\n",
    "            array_selected_num[i_class] = rare_class_num\n",
    "\n",
    "    # set the sample number for primary forest\n",
    "    array_selected_num[1] = pf_class_num  # primary wet forest\n",
    "    array_selected_num[2] = pf_class_num  # primary dry forest\n",
    "\n",
    "    # calculate the proportion for the remaining classes\n",
    "    rest_proportion = array_weight[array_selected_num == 0]\n",
    "    rest_proportion_redistribute = rest_proportion / np.nansum(rest_proportion)\n",
    "\n",
    "    # set the sample number for rest class based on the area proportion\n",
    "    rest_sample_count = (total_sample_num - np.nansum(array_selected_num)) * rest_proportion_redistribute\n",
    "    rest_sample_count = np.round(rest_sample_count)\n",
    "\n",
    "    array_selected_num[array_selected_num == 0] = rest_sample_count\n",
    "\n",
    "    return array_selected_num"
   ],
   "id": "11f2981d86a2db7d",
   "outputs": [],
   "execution_count": 2
  },
  {
   "metadata": {
    "ExecuteTime": {
     "end_time": "2024-06-26T13:33:54.968355Z",
     "start_time": "2024-06-26T13:33:54.631735Z"
    }
   },
   "cell_type": "code",
   "source": [
    "pwd = os.getcwd()\n",
    "rootpath = os.path.abspath(os.path.join(pwd, '..'))\n",
    "\n",
    "filename_accuracy_assessment_tabel = join(rootpath, 'results', 'accuracy_assessment_table.xlsx')\n",
    "\n",
    "filename_lc_pct = join(rootpath, 'results', 'land_cover_pct.xlsx')\n",
    "df_lc_pct = pd.read_excel(filename_lc_pct, sheet_name='Hispaniola')\n",
    "\n",
    "# get the count and weight for land cover classification accuracy assessment\n",
    "array_count_lc = df_lc_pct.iloc[:, 2:10].sum().values\n",
    "array_weight_lc = array_count_lc / np.nansum(array_count_lc)\n",
    "\n",
    "standar_error_est_overall_accu = 0.02\n",
    "# conjecture_user_accuracy = np.array([0.85, 0.8, 0.8, 0.85, 0.85, 0.85, 0.95, 0.85])\n",
    "conjecture_user_accuracy = 0.80\n",
    "\n",
    "total_sample_num = total_sample_num_calculate(standar_error_est_overall_accu, array_weight_lc, conjecture_user_accuracy)\n",
    "\n",
    "# array_selected_num = sample_allocation(total_sample_num, array_weight, rare_class_num=100, rare_class_threshold=0.1)\n",
    "array_selected_num_pf_preference = sample_allocation_pf_preference(total_sample_num, array_weight_lc,\n",
    "                                                                   pf_class_num=50,\n",
    "                                                                   rare_class_num=25,\n",
    "                                                                   rare_class_threshold=0.1)\n",
    "\n",
    "print(f'total sample count: {total_sample_num}')\n",
    "print(f'sample count for each land cover stratum: {array_selected_num_pf_preference}')\n",
    "print(f'developed: {array_selected_num_pf_preference[0]}')\n",
    "print(f'primary wet forest: {array_selected_num_pf_preference[1]}')\n",
    "print(f'primary dry forest: {array_selected_num_pf_preference[2]}')\n",
    "print(f'secondary forest: {array_selected_num_pf_preference[3]}')\n",
    "print(f'shrub/grass: {array_selected_num_pf_preference[4]}')\n",
    "print(f'water: {array_selected_num_pf_preference[5]}')\n",
    "print(f'wetland: {array_selected_num_pf_preference[6]}')\n",
    "print(f'other: {array_selected_num_pf_preference[7]}')\n"
   ],
   "id": "ba14eb9b726dbeee",
   "outputs": [
    {
     "name": "stdout",
     "output_type": "stream",
     "text": [
      "total sample count: 400\n",
      "sample count for each land cover stratum: [ 25  50  50  86  25  25  25 114]\n",
      "developed: 25\n",
      "primary wet forest: 50\n",
      "primary dry forest: 50\n",
      "secondary forest: 86\n",
      "shrub/grass: 25\n",
      "water: 25\n",
      "wetland: 25\n",
      "other: 114\n"
     ]
    }
   ],
   "execution_count": 3
  },
  {
   "metadata": {
    "ExecuteTime": {
     "end_time": "2024-06-26T13:33:59.120395Z",
     "start_time": "2024-06-26T13:33:59.111389Z"
    }
   },
   "cell_type": "code",
   "source": [
    "# get the count and weight for primary forest loss detection accuracy assessment\n",
    "count_pf_loss = df_lc_pct.iloc[0, 3:5].sum() - df_lc_pct.iloc[-1, 3:5].sum()\n",
    "count_other = df_lc_pct.loc[0, 'TOTAL'] - count_pf_loss\n",
    "\n",
    "array_count_pf_loss = np.array([count_other, count_pf_loss])\n",
    "array_weight_pf_loss = array_count_pf_loss / np.nansum(array_count_pf_loss)\n",
    "\n",
    "standard_error_est_overall_accu = 0.01\n",
    "conjecture_user_accuracy = np.array([0.95, 0.7])\n",
    "# conjecture_user_accuracy = 0.85\n",
    "\n",
    "total_sample_num = total_sample_num_calculate(standard_error_est_overall_accu, array_weight_pf_loss, conjecture_user_accuracy)\n",
    "array_selected_num = sample_allocation(total_sample_num, array_weight_pf_loss, rare_class_num=100, rare_class_threshold=0.1)\n",
    "\n",
    "print(f'total sample count: {total_sample_num}')\n",
    "print(f'sample count for each stratum: {array_selected_num}')\n",
    "print(f'other: {array_selected_num[0]}')\n",
    "print(f'PF loss: {array_selected_num[1]}')\n"
   ],
   "id": "d29d8fcb79648203",
   "outputs": [
    {
     "name": "stdout",
     "output_type": "stream",
     "text": [
      "total sample count: 486\n",
      "sample count for each stratum: [386 100]\n",
      "other: 386\n",
      "PF loss: 100\n"
     ]
    }
   ],
   "execution_count": 4
  }
 ],
 "metadata": {
  "kernelspec": {
   "display_name": "Python 3",
   "language": "python",
   "name": "python3"
  },
  "language_info": {
   "codemirror_mode": {
    "name": "ipython",
    "version": 2
   },
   "file_extension": ".py",
   "mimetype": "text/x-python",
   "name": "python",
   "nbconvert_exporter": "python",
   "pygments_lexer": "ipython2",
   "version": "2.7.6"
  }
 },
 "nbformat": 4,
 "nbformat_minor": 5
}
