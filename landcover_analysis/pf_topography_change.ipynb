{
 "cells": [
  {
   "metadata": {},
   "cell_type": "markdown",
   "source": "calculate the mean slope and elevation of primary wet forest in Haiti and the Dominican Republic ",
   "id": "fe585d769e8bf199"
  },
  {
   "metadata": {
    "ExecuteTime": {
     "end_time": "2024-06-26T04:27:59.211438Z",
     "start_time": "2024-06-26T04:27:58.612610Z"
    }
   },
   "cell_type": "code",
   "source": [
    "import numpy as np\n",
    "import os\n",
    "from os.path import join\n",
    "import pandas as pd\n",
    "from osgeo import gdal, gdal_array, gdalconst"
   ],
   "id": "3e52a09a5754cac2",
   "outputs": [
    {
     "name": "stderr",
     "output_type": "stream",
     "text": [
      "C:\\Users\\64937\\AppData\\Local\\Temp\\ipykernel_23164\\2296229650.py:4: DeprecationWarning: \n",
      "Pyarrow will become a required dependency of pandas in the next major release of pandas (pandas 3.0),\n",
      "(to allow more performant data types, such as the Arrow string type, and better interoperability with other libraries)\n",
      "but was not found to be installed on your system.\n",
      "If this would cause problems for you,\n",
      "please provide us feedback at https://github.com/pandas-dev/pandas/issues/54466\n",
      "        \n",
      "  import pandas as pd\n"
     ]
    }
   ],
   "execution_count": 1
  },
  {
   "metadata": {
    "ExecuteTime": {
     "end_time": "2024-06-26T04:29:42.959626Z",
     "start_time": "2024-06-26T04:29:04.402770Z"
    }
   },
   "cell_type": "code",
   "source": [
    "pwd = os.getcwd()\n",
    "rootpath = os.path.abspath(os.path.join(pwd, '..'))\n",
    "\n",
    "list_year = np.arange(1996, 2023)\n",
    "\n",
    "img_country_mask = gdal_array.LoadFile(join(rootpath, 'data', 'hispaniola_polygon', 'countryid_hispaniola.tif'))\n",
    "\n",
    "img_dem = gdal_array.LoadFile(join(rootpath, 'data', 'topography', 'dem_mosaic.tif'))\n",
    "img_slope = gdal_array.LoadFile(join(rootpath, 'data', 'topography', 'slope_mosaic.tif'))\n",
    "\n",
    "df_hispaniola_topography = pd.DataFrame(columns=['year', 'haiti_elevation_pwf', 'haiti_slope_pwf', 'dr_elevation_pwf', 'dr_slope_pwf'], \n",
    "                                        index=np.arange(0, len(list_year)))\n",
    "\n",
    "for i_year in range(0, len(list_year)):\n",
    "    year = list_year[i_year]\n",
    "\n",
    "    df_hispaniola_topography.loc[i_year, 'year'] = year\n",
    "    \n",
    "    img_landcover = gdal_array.LoadFile(join(rootpath, 'data', 'hispaniola_lc', f'hispaniola_lc_{year}.tif'))\n",
    "    \n",
    "    # calculate the mean DEM and slope of primary wer forest for Haiti\n",
    "    mask_landcover = (img_landcover == 2) & (img_country_mask == 1)\n",
    "    mean_dem_haiti = np.nanmean(img_dem[mask_landcover])\n",
    "    df_hispaniola_topography.loc[i_year, 'haiti_elevation_pwf'] = mean_dem_haiti\n",
    "\n",
    "    mean_slope_haiti = np.nanmean(img_slope[mask_landcover])\n",
    "    df_hispaniola_topography.loc[i_year, 'haiti_slope_pwf'] = mean_slope_haiti\n",
    "\n",
    "    # calculate the mean DEM and slope of primary wer forest for Dominican Republic\n",
    "    mask_landcover = (img_landcover == 2) & (img_country_mask == 2)\n",
    "    mean_dem_dr = np.nanmean(img_dem[mask_landcover])\n",
    "    df_hispaniola_topography.loc[i_year, 'dr_elevation_pwf'] = mean_dem_dr\n",
    "\n",
    "    mean_slope_dr = np.nanmean(img_slope[mask_landcover])\n",
    "    df_hispaniola_topography.loc[i_year, 'dr_slope_pwf'] = mean_slope_dr\n",
    "    \n",
    "    print(year, mean_dem_haiti, mean_slope_haiti, mean_dem_dr, mean_slope_dr)\n"
   ],
   "id": "d9eab8a3b27168d0",
   "outputs": [
    {
     "name": "stdout",
     "output_type": "stream",
     "text": [
      "1996 1597.6221 26.754847 1624.3041 21.413033\n",
      "1997 1592.4376 26.868069 1618.3402 21.456446\n",
      "1998 1588.3949 26.932268 1614.1033 21.479681\n",
      "1999 1582.5527 26.957388 1609.3047 21.466652\n",
      "2000 1568.6793 27.339785 1609.2573 21.481482\n",
      "2001 1557.0089 27.596241 1606.44 21.463503\n",
      "2002 1554.2931 27.678183 1605.6958 21.469503\n",
      "2003 1553.5503 27.695702 1605.5806 21.480375\n",
      "2004 1551.0409 27.763008 1605.338 21.485386\n",
      "2005 1544.635 27.950556 1593.4507 21.442532\n",
      "2006 1541.1876 28.030533 1583.0955 21.485048\n",
      "2007 1536.3391 28.185392 1579.9475 21.539553\n",
      "2008 1531.0721 28.364046 1579.114 21.556921\n",
      "2009 1528.3241 28.44736 1579.3673 21.562342\n",
      "2010 1526.7085 28.482862 1579.4371 21.56436\n",
      "2011 1525.8435 28.511387 1579.6072 21.559895\n",
      "2012 1521.0583 28.61349 1580.2488 21.564554\n",
      "2013 1507.1781 29.054752 1580.8148 21.725647\n",
      "2014 1506.2665 29.08857 1576.1101 21.783026\n",
      "2015 1503.5137 29.157518 1573.5471 21.815952\n",
      "2016 1496.1141 29.253853 1573.4967 21.830706\n",
      "2017 1476.5585 29.269232 1573.4763 21.839706\n",
      "2018 1476.3748 29.325977 1573.6283 21.846233\n",
      "2019 1475.5663 29.351501 1575.9608 21.887085\n",
      "2020 1474.636 29.371933 1576.9779 21.902737\n",
      "2021 1476.561 29.196693 1577.8646 21.933464\n",
      "2022 1478.6312 29.041544 1575.8037 22.04081\n"
     ]
    }
   ],
   "execution_count": 3
  },
  {
   "metadata": {
    "ExecuteTime": {
     "end_time": "2024-06-26T04:31:42.813990Z",
     "start_time": "2024-06-26T04:31:42.481991Z"
    }
   },
   "cell_type": "code",
   "source": "df_hispaniola_topography.to_excel(join(rootpath, 'results', 'hispaniola_pwf_topography.xlsx'))",
   "id": "7b1b6cf229cf6ca8",
   "outputs": [],
   "execution_count": 5
  }
 ],
 "metadata": {
  "kernelspec": {
   "display_name": "Python 3",
   "language": "python",
   "name": "python3"
  },
  "language_info": {
   "codemirror_mode": {
    "name": "ipython",
    "version": 2
   },
   "file_extension": ".py",
   "mimetype": "text/x-python",
   "name": "python",
   "nbconvert_exporter": "python",
   "pygments_lexer": "ipython2",
   "version": "2.7.6"
  }
 },
 "nbformat": 4,
 "nbformat_minor": 5
}
