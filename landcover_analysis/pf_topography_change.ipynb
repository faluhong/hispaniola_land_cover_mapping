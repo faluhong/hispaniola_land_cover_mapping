{
 "cells": [
  {
   "metadata": {},
   "cell_type": "markdown",
   "source": "calculate the mean slope and elevation of primary wet forest in Haiti and the Dominican Republic ",
   "id": "fe585d769e8bf199"
  },
  {
   "metadata": {
    "ExecuteTime": {
     "end_time": "2024-12-29T22:05:06.961647Z",
     "start_time": "2024-12-29T22:05:06.917624Z"
    }
   },
   "cell_type": "code",
   "source": [
    "import numpy as np\n",
    "import os\n",
    "from os.path import join\n",
    "import pandas as pd\n",
    "from osgeo import gdal, gdal_array, gdalconst\n",
    "\n",
    "\n",
    "def get_topography_stats(img_dem, img_slope, rootpath, list_year, img_country_mask):\n",
    "    df_hispaniola_topography = pd.DataFrame(columns=['year', 'haiti_elevation_pwf', 'haiti_slope_pwf', 'dr_elevation_pwf', 'dr_slope_pwf'],\n",
    "                                            index=np.arange(0, len(list_year)))\n",
    "\n",
    "    for i_year in range(0, len(list_year)):\n",
    "        year = list_year[i_year]\n",
    "\n",
    "        df_hispaniola_topography.loc[i_year, 'year'] = year\n",
    "\n",
    "        img_landcover = gdal_array.LoadFile(join(rootpath, 'data', 'hispaniola_lc', f'hispaniola_lc_{year}.tif'))\n",
    "\n",
    "        # calculate the mean elevation and slope of primary wet forest for Haiti\n",
    "        mask_landcover = (img_landcover == 2) & (img_country_mask == 1)\n",
    "        mean_dem_haiti = np.nanmean(img_dem[mask_landcover])\n",
    "        df_hispaniola_topography.loc[i_year, 'haiti_elevation_pwf'] = mean_dem_haiti\n",
    "\n",
    "        mean_slope_haiti = np.nanmean(img_slope[mask_landcover])\n",
    "        df_hispaniola_topography.loc[i_year, 'haiti_slope_pwf'] = mean_slope_haiti\n",
    "\n",
    "        # calculate the mean elevation and slope of primary wet forest for Dominican Republic\n",
    "        mask_landcover = (img_landcover == 2) & (img_country_mask == 2)\n",
    "        mean_dem_dr = np.nanmean(img_dem[mask_landcover])\n",
    "        df_hispaniola_topography.loc[i_year, 'dr_elevation_pwf'] = mean_dem_dr\n",
    "\n",
    "        mean_slope_dr = np.nanmean(img_slope[mask_landcover])\n",
    "        df_hispaniola_topography.loc[i_year, 'dr_slope_pwf'] = mean_slope_dr\n",
    "\n",
    "        print(year, mean_dem_haiti, mean_slope_haiti, mean_dem_dr, mean_slope_dr)\n",
    "\n",
    "    return df_hispaniola_topography\n"
   ],
   "id": "3e52a09a5754cac2",
   "outputs": [],
   "execution_count": 1
  },
  {
   "metadata": {
    "ExecuteTime": {
     "end_time": "2024-12-29T22:05:34.316306Z",
     "start_time": "2024-12-29T22:05:08.820429Z"
    }
   },
   "cell_type": "code",
   "source": [
    "pwd = os.getcwd()\n",
    "rootpath = os.path.abspath(os.path.join(pwd, '..'))\n",
    "\n",
    "list_year = np.arange(1996, 2023)\n",
    "\n",
    "img_country_mask = gdal_array.LoadFile(join(rootpath, 'data', 'hispaniola_polygon', 'countryid_hispaniola.tif'))\n",
    "\n",
    "img_srtm_elevation = gdal_array.LoadFile(join(rootpath, 'data', 'topography', 'dem_mosaic.tif'))\n",
    "img_srtm_slope = gdal_array.LoadFile(join(rootpath, 'data', 'topography', 'slope_mosaic.tif'))\n",
    "\n",
    "\n",
    "df_hispaniola_srtm_topography = get_topography_stats(img_dem=img_srtm_elevation,\n",
    "                                                     img_slope=img_srtm_slope,\n",
    "                                                     rootpath=rootpath,\n",
    "                                                     list_year=list_year,\n",
    "                                                     img_country_mask=img_country_mask)\n",
    "\n",
    "df_hispaniola_srtm_topography.to_excel(join(rootpath, 'results', 'hispaniola_srtm_pwf_topography.xlsx'))\n"
   ],
   "id": "d9eab8a3b27168d0",
   "outputs": [
    {
     "name": "stdout",
     "output_type": "stream",
     "text": [
      "1996 1597.6221 26.754847 1624.3041 21.413033\n",
      "1997 1592.4376 26.868069 1618.3402 21.456446\n",
      "1998 1588.3949 26.932268 1614.1033 21.479681\n",
      "1999 1582.5527 26.957388 1609.3047 21.466652\n",
      "2000 1568.6793 27.339785 1609.2573 21.481482\n",
      "2001 1557.0089 27.596241 1606.44 21.463503\n",
      "2002 1554.2931 27.678183 1605.6958 21.469503\n",
      "2003 1553.5503 27.695702 1605.5806 21.480375\n",
      "2004 1551.0409 27.763008 1605.338 21.485386\n",
      "2005 1544.635 27.950556 1593.4507 21.442532\n",
      "2006 1541.1876 28.030533 1583.0955 21.485048\n",
      "2007 1536.3391 28.185392 1579.9475 21.539553\n",
      "2008 1531.0721 28.364046 1579.114 21.556921\n",
      "2009 1528.3241 28.44736 1579.3673 21.562342\n",
      "2010 1526.7085 28.482862 1579.4371 21.56436\n",
      "2011 1525.8435 28.511387 1579.6072 21.559895\n",
      "2012 1521.0583 28.61349 1580.2488 21.564554\n",
      "2013 1507.1781 29.054752 1580.8148 21.725647\n",
      "2014 1506.2665 29.08857 1576.1101 21.783026\n",
      "2015 1503.5137 29.157518 1573.5471 21.815952\n",
      "2016 1496.1141 29.253853 1573.4967 21.830706\n",
      "2017 1476.5585 29.269232 1573.4763 21.839706\n",
      "2018 1476.3748 29.325977 1573.6283 21.846233\n",
      "2019 1475.5663 29.351501 1575.9608 21.887085\n",
      "2020 1474.636 29.371933 1576.9779 21.902737\n",
      "2021 1476.561 29.196693 1577.8646 21.933464\n",
      "2022 1478.6312 29.041544 1575.8037 22.04081\n"
     ]
    }
   ],
   "execution_count": 2
  },
  {
   "metadata": {
    "ExecuteTime": {
     "end_time": "2024-12-29T22:06:12.942690Z",
     "start_time": "2024-12-29T22:05:46.566641Z"
    }
   },
   "cell_type": "code",
   "source": [
    "img_hand_elevation = gdal_array.LoadFile(join(rootpath, 'data', 'topography', 'hand30_hispaniola_ard_mask_elevation.tif'))\n",
    "img_hand_slope = gdal_array.LoadFile(join(rootpath, 'data', 'topography', 'hand30_hispaniola_ard_mask_slope.tif'))\n",
    "\n",
    "df_hispaniola_hand_topography = get_topography_stats(img_dem=img_hand_elevation,\n",
    "                                                     img_slope=img_hand_slope,\n",
    "                                                     rootpath=rootpath,\n",
    "                                                     list_year=list_year,\n",
    "                                                     img_country_mask=img_country_mask)\n",
    "\n",
    "df_hispaniola_hand_topography.to_excel(join(rootpath, 'results', 'hispaniola_hand_pwf_topography.xlsx'))"
   ],
   "id": "7b1b6cf229cf6ca8",
   "outputs": [
    {
     "name": "stdout",
     "output_type": "stream",
     "text": [
      "1996 149.09006 36.28256 91.35843 28.943174\n",
      "1997 150.08356 36.416992 91.5109 28.993734\n",
      "1998 150.73167 36.48544 91.55482 29.020523\n",
      "1999 151.30614 36.54932 91.572235 29.021324\n",
      "2000 153.39166 36.839764 91.52695 29.020092\n",
      "2001 154.89302 37.10217 91.33184 28.98177\n",
      "2002 155.32222 37.170135 91.293846 28.979168\n",
      "2003 155.44429 37.184536 91.31095 28.98846\n",
      "2004 155.86563 37.25485 91.30573 28.990728\n",
      "2005 157.02301 37.44086 91.05653 28.933472\n",
      "2006 157.2568 37.50131 90.97002 28.948893\n",
      "2007 158.03445 37.655743 91.16417 28.995453\n",
      "2008 159.21925 37.82624 91.157394 29.002275\n",
      "2009 159.81105 37.903397 91.15048 29.004736\n",
      "2010 160.05511 37.94196 91.132454 29.004816\n",
      "2011 160.28703 37.96453 91.08051 28.997858\n",
      "2012 161.51227 38.10491 91.06615 29.001524\n",
      "2013 164.56541 38.53688 91.71758 29.144503\n",
      "2014 164.9204 38.587723 92.07464 29.213247\n",
      "2015 165.46024 38.65413 92.10514 29.231382\n",
      "2016 164.81067 38.52853 92.103806 29.230797\n",
      "2017 162.8061 38.14519 92.12125 29.233702\n",
      "2018 163.44225 38.19463 92.142235 29.239773\n",
      "2019 163.65895 38.219887 92.30705 29.268745\n",
      "2020 163.73268 38.218674 92.37542 29.2851\n",
      "2021 163.90547 38.114685 92.49884 29.314217\n",
      "2022 164.0912 37.98399 92.94741 29.410383\n"
     ]
    }
   ],
   "execution_count": 3
  }
 ],
 "metadata": {
  "kernelspec": {
   "display_name": "Python 3",
   "language": "python",
   "name": "python3"
  },
  "language_info": {
   "codemirror_mode": {
    "name": "ipython",
    "version": 2
   },
   "file_extension": ".py",
   "mimetype": "text/x-python",
   "name": "python",
   "nbconvert_exporter": "python",
   "pygments_lexer": "ipython2",
   "version": "2.7.6"
  }
 },
 "nbformat": 4,
 "nbformat_minor": 5
}
